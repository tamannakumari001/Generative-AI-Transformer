{
 "cells": [
  {
   "cell_type": "code",
   "execution_count": 38,
   "metadata": {},
   "outputs": [],
   "source": [
    "import numpy as np"
   ]
  },
  {
   "cell_type": "code",
   "execution_count": 39,
   "metadata": {},
   "outputs": [],
   "source": [
    "class gate:\n",
    "  def __init__ (self):\n",
    "       self.Weights = np.random.randn(3,1)\n",
    "  \n",
    "  \n",
    "  def sigmoid(slef,z):\n",
    "    return 1/(1+np.exp(-z))\n",
    "  \n",
    "  def sigmoidderiv(self,z):\n",
    "    return self.sigmoid(z)*(1 - self.sigmoid(z))\n",
    "  \n",
    "  def forward(self,X):\n",
    "    X = np.hstack((X, np.ones((X.shape[0],1))))   \n",
    "    self.a = np.matmul(X,self.Weights)\n",
    "    self.z = self.sigmoid(self.a)\n",
    "    return self.z\n",
    "  \n",
    "  \n",
    "  def costfunction(self,X,y):\n",
    "    self.loss = sum((self.forward(X)-y)**2) /2\n",
    "    return self.loss\n",
    "  \n",
    "  \n",
    "  def costfunctionderiv(self,X,y):\n",
    "    self.y_hat = self.forward(X)\n",
    "    X = np.hstack((X, np.ones((X.shape[0],1))))  \n",
    "    self.delta = (self.y_hat - y)*self.sigmoidderiv(self.a)\n",
    "    self.dCdW = np.matmul(X.T,self.delta)   \n",
    "    return self.dCdW  \n",
    "  \n",
    "  def train(self,X,y,num):\n",
    "    if num == 0: return\n",
    "    const = 1\n",
    "    self.Weights = self.Weights - const*self.costfunctionderiv(X,y) \n",
    "    self.train(X,y,num-1)\n",
    "\n",
    "  def self_train_and(self):\n",
    "    self.matrix = np.array([[1,0],[1,1],[0,0],[0,1]])\n",
    "    self.y = np.array([[0],[1],[0],[0]])\n",
    "    for i in range(100):\n",
    "      self.train(self.matrix,self.y,1000)\n",
    "\n",
    "  def self_train_xor(self):\n",
    "   self.matrix = np.random.randint(0, 2, size=(100, 2))\n",
    "   self.y = np.sum(self.matrix, axis=1)%2\n",
    "   self.y = self.y.reshape(len(self.y),1) \n",
    "   for i in range(1000):\n",
    "      self.train(self.matrix,self.y,1000)\n",
    "      \n",
    "\n",
    "\n",
    "  def output(self,X):\n",
    "    return np.round(self.forward(X))\n",
    "    "
   ]
  },
  {
   "cell_type": "code",
   "execution_count": 40,
   "metadata": {},
   "outputs": [],
   "source": [
    "#AND GATE\n",
    "AND_gate = gate()\n",
    "X = np.array([[1,0],[0,0],[0,1],[1,1]])\n",
    "y_and = np.array([[0],[0],[0],[1]])\n",
    "#for i in range(100):\n",
    "  #AND_gate.train(X,y_and,1000)\n",
    "AND_gate.self_train_and()\n",
    "\n"
   ]
  },
  {
   "cell_type": "code",
   "execution_count": 41,
   "metadata": {},
   "outputs": [
    {
     "name": "stdout",
     "output_type": "stream",
     "text": [
      "[[0.00505407]]\n",
      "[[1.55312777e-07]]\n",
      "[[0.00505407]]\n",
      "[[0.99401703]]\n",
      "[[0.]\n",
      " [0.]\n",
      " [0.]\n",
      " [1.]]\n"
     ]
    }
   ],
   "source": [
    "# test it out\n",
    "print(AND_gate.forward(np.array([[0,1]])))\n",
    "print(AND_gate.forward(np.array([[0,0]])))\n",
    "print(AND_gate.forward(np.array([[1,0]])))\n",
    "print(AND_gate.forward(np.array([[1,1]])))\n",
    "print(AND_gate.output(X))"
   ]
  },
  {
   "cell_type": "code",
   "execution_count": 42,
   "metadata": {},
   "outputs": [
    {
     "name": "stdout",
     "output_type": "stream",
     "text": [
      "[[0.5]\n",
      " [0.5]\n",
      " [0.5]\n",
      " [0.5]]\n"
     ]
    }
   ],
   "source": [
    "#XOR GATE\n",
    "XOR_gate = gate()\n",
    "y_xor = np.array([[1],[0],[1],[0]])\n",
    "#XOR_gate.self_train_xor()\n",
    "for i in range(100):\n",
    "    XOR_gate.train(X,y_xor,1000)\n",
    "print(XOR_gate.forward(X))\n",
    "#it's impossible to create a XOR gate using a perceptron. :(\n",
    "# atleast one hidden layer needs to be implemented    \n"
   ]
  }
 ],
 "metadata": {
  "kernelspec": {
   "display_name": "Python 3",
   "language": "python",
   "name": "python3"
  },
  "language_info": {
   "codemirror_mode": {
    "name": "ipython",
    "version": 3
   },
   "file_extension": ".py",
   "mimetype": "text/x-python",
   "name": "python",
   "nbconvert_exporter": "python",
   "pygments_lexer": "ipython3",
   "version": "3.13.0"
  }
 },
 "nbformat": 4,
 "nbformat_minor": 2
}
