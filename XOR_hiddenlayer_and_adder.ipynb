{
 "cells": [
  {
   "cell_type": "code",
   "execution_count": 59,
   "metadata": {},
   "outputs": [],
   "source": [
    "import numpy as np"
   ]
  },
  {
   "cell_type": "code",
   "execution_count": 49,
   "metadata": {},
   "outputs": [],
   "source": [
    "#XOR gate with one hidden layer\n",
    "class XOR_gate:\n",
    "    def __init__(self):\n",
    "        self.Hlayer = 2\n",
    "        self.inputs = 2\n",
    "        self.out = 1\n",
    "        self.w1  = np.random.randn(self.inputs+1,self.Hlayer)\n",
    "        self.w2 = np.random.randn(self.Hlayer+1,self.out)\n",
    "    \n",
    "    def sigmoid(slef,z):\n",
    "        return 1/(1+np.exp(-z))\n",
    "  \n",
    "    def sigmoidderiv(self,z):\n",
    "        return self.sigmoid(z)*(1 - self.sigmoid(z))\n",
    "  \n",
    "    def forward(self,X):\n",
    "        self.X = np.hstack((X,np.ones((X.shape[0],1)))) \n",
    "        self.a1 = np.matmul(self.X,self.w1)\n",
    "        self.z1 = self.sigmoid(self.a1)\n",
    "        self.z2 = np.hstack((self.z1,np.ones((self.z1.shape[0],1))))\n",
    "        self.a2 = np.matmul(self.z2,self.w2)\n",
    "        self.z3 = self.sigmoid(self.a2)\n",
    "        return self.z3\n",
    "    \n",
    "    def costfunction(self,X,y):\n",
    "        self.loss = sum((self.forward(X)-y)**2)/2\n",
    "        return self.loss\n",
    "    \n",
    "    def costfunctionderiv(self,X,y):\n",
    "        self.y_hat = self.forward(X)\n",
    "        self.delta2 = (self.y_hat-y)*self.sigmoidderiv(self.a2)\n",
    "        self.dCdW2 = np.matmul(self.z2.T,self.delta2)\n",
    "        \n",
    "        self.delta1 = np.matmul(((self.delta2 * self.X).T),self.sigmoidderiv(self.a1))\n",
    "        self.dCdW1  = self.w2[0:-1,:].T * self.delta1\n",
    "        return self.dCdW1,self.dCdW2\n",
    "    \n",
    "    const = 1\n",
    "    \n",
    "    def train(self,X,y,num=100):\n",
    "        if num==0: return\n",
    "        self.rw1,self.rw2 = self.costfunctionderiv(X,y)\n",
    "        self.w1 -= self.rw1*self.const\n",
    "        self.w2 -= self.rw2*self.const\n",
    "        self.train(X,y,num-1)        \n",
    "        \n",
    "    def self_train(self):\n",
    "        self.X1 = np.array([[0,0],[0,1],[1,1],[1,0]])\n",
    "        self.y = np.array([[0],[1],[0],[1]])\n",
    "        for i in range(100):\n",
    "            self.train(self.X1,self.y)\n",
    "        \n",
    "    def output(self,X):\n",
    "        return np.round(self.forward(X))     \n",
    "        \n",
    "         \n",
    "        "
   ]
  },
  {
   "cell_type": "code",
   "execution_count": 50,
   "metadata": {},
   "outputs": [],
   "source": [
    "\n",
    "XORgate = XOR_gate()\n",
    "X= np.array([[0,1],[1,1],[0,0],[1,0]])\n",
    "y = np.array([[1],[0],[0],[1]])\n",
    "for i in range(1000):\n",
    "    XORgate.train(X,y)\n",
    "    "
   ]
  },
  {
   "cell_type": "code",
   "execution_count": 51,
   "metadata": {},
   "outputs": [
    {
     "name": "stdout",
     "output_type": "stream",
     "text": [
      "[[0.996734  ]\n",
      " [0.00309873]\n",
      " [0.00343399]\n",
      " [0.99603421]]\n",
      "[[0.]]\n"
     ]
    }
   ],
   "source": [
    "#test it out\n",
    "print(XORgate.forward(X))\n",
    "print(XORgate.output(np.array([[1,1]])))\n",
    "\n",
    "#XOR gate works with one hidden layer implemented\n"
   ]
  },
  {
   "cell_type": "code",
   "execution_count": 52,
   "metadata": {},
   "outputs": [],
   "source": [
    "#full adder\n",
    "#creating class gate for AND and OR gates\n",
    "class gate:\n",
    "  def __init__ (self):\n",
    "       self.Weights = np.random.randn(3,1)\n",
    "  \n",
    "  \n",
    "  def sigmoid(slef,z):\n",
    "    return 1/(1+np.exp(-z))\n",
    "  \n",
    "  def sigmoidderiv(self,z):\n",
    "    return self.sigmoid(z)*(1 - self.sigmoid(z))\n",
    "  \n",
    "  def forward(self,X):\n",
    "    X = np.hstack((X, np.ones((X.shape[0],1))))   \n",
    "    self.a = np.matmul(X,self.Weights)\n",
    "    self.z = self.sigmoid(self.a)\n",
    "    return self.z\n",
    "  \n",
    "  \n",
    "  def costfunction(self,X,y):\n",
    "    self.loss = sum((self.forward(X)-y)**2) /2\n",
    "    return self.loss\n",
    "  \n",
    "  \n",
    "  def costfunctionderiv(self,X,y):\n",
    "    self.y_hat = self.forward(X)\n",
    "    X = np.hstack((X, np.ones((X.shape[0],1))))  \n",
    "    self.delta = (self.y_hat - y)*self.sigmoidderiv(self.a)\n",
    "    self.dCdW = np.matmul(X.T,self.delta)   \n",
    "    return self.dCdW  \n",
    "  \n",
    "  def train(self,X,y,num):\n",
    "    if num == 0: return\n",
    "    const = 1\n",
    "    self.Weights = self.Weights - const*self.costfunctionderiv(X,y) \n",
    "    self.train(X,y,num-1)\n",
    "\n",
    "  def self_train_and(self):\n",
    "    self.matrix = np.array([[0,0],[0,1],[1,0],[1,1]])\n",
    "    self.y = np.array([[0],[0],[0],[1]])\n",
    "    for i in range(100):\n",
    "      self.train(self.matrix,self.y,1000)\n",
    "\n",
    "  def self_train_or(self):\n",
    "   self.matrix = np.array([[0,0],[0,1],[1,0],[1,1]])\n",
    "   self.y = np.array([[0],[1],[1],[1]])\n",
    "   for i in range(100):\n",
    "      self.train(self.matrix,self.y,1000)\n",
    "\n",
    "\n",
    "  def output(self,X):\n",
    "    return np.round(self.forward(X))"
   ]
  },
  {
   "cell_type": "code",
   "execution_count": 53,
   "metadata": {},
   "outputs": [],
   "source": [
    "class multi:\n",
    "    gate_AND = gate()\n",
    "    gate_AND.self_train_and()\n",
    "    gate_OR = gate()\n",
    "    gate_OR.self_train_or()\n",
    "    gate_XOR = XOR_gate()\n",
    "    gate_XOR.self_train()\n",
    "    \n",
    "    def OR(self,X):  \n",
    "        self.rem = X.pop()\n",
    "        for _ in range(len(X)):\n",
    "            self.t = X.pop()\n",
    "            self.rem = self.gate_OR.output(np.array([[self.rem,self.t]]))[0,0]\n",
    "        return self.rem\n",
    "    def AND(self,X):\n",
    "        self.rem = X.pop()\n",
    "        for _ in range(len(X)):\n",
    "            self.t = X.pop()\n",
    "            self.rem = self.gate_AND.output(np.array([[self.rem,self.t]]))[0,0]\n",
    "        return self.rem \n",
    "    \n",
    "    def XOR(self,X):\n",
    "        self.rem = X.pop()\n",
    "        for _ in range(len(X)):\n",
    "            self.t = X.pop()\n",
    "            self.rem = self.gate_XOR.output(np.array([[self.rem,self.t]]))[0,0]\n",
    "        return self.rem\n",
    "    \n",
    "g1 = multi()\n",
    "        \n",
    "        "
   ]
  },
  {
   "cell_type": "code",
   "execution_count": 54,
   "metadata": {},
   "outputs": [],
   "source": [
    "def full_adder(A,B,C_in):\n",
    "    input = [A,B,C_in]\n",
    "    Sum = g1.XOR(input)\n",
    "    C_out = g1.OR([g1.AND([A,B]),g1.AND([A,C_in]),g1.AND([B,C_in])])\n",
    "    return Sum, C_out\n",
    "    "
   ]
  },
  {
   "cell_type": "code",
   "execution_count": 55,
   "metadata": {},
   "outputs": [],
   "source": [
    "#Sum,C_out = full_adder(1,1,0)\n",
    "#print(Sum,C_out)"
   ]
  },
  {
   "cell_type": "code",
   "execution_count": 56,
   "metadata": {},
   "outputs": [],
   "source": [
    "def ripple_carry_adder(A,B):\n",
    "    C_in = 0 #default carry-in\n",
    "    ans = 0\n",
    "    while (A or B):\n",
    "        s,C_out = full_adder(A%10,B%10,C_in)\n",
    "        ans = 10*ans + s\n",
    "        C_in = C_out\n",
    "        A = A//10\n",
    "        B = B//10\n",
    "    ans = ans*10 + C_in\n",
    "    out = 0\n",
    "    while(ans):\n",
    "        out = out*10 + ans%10\n",
    "        ans = ans//10 \n",
    "    return out"
   ]
  },
  {
   "cell_type": "code",
   "execution_count": 58,
   "metadata": {},
   "outputs": [
    {
     "name": "stdout",
     "output_type": "stream",
     "text": [
      "100010111.0\n"
     ]
    }
   ],
   "source": [
    "print(ripple_carry_adder(11111001,11110))"
   ]
  }
 ],
 "metadata": {
  "kernelspec": {
   "display_name": "Python 3",
   "language": "python",
   "name": "python3"
  },
  "language_info": {
   "codemirror_mode": {
    "name": "ipython",
    "version": 3
   },
   "file_extension": ".py",
   "mimetype": "text/x-python",
   "name": "python",
   "nbconvert_exporter": "python",
   "pygments_lexer": "ipython3",
   "version": "3.13.0"
  }
 },
 "nbformat": 4,
 "nbformat_minor": 2
}
