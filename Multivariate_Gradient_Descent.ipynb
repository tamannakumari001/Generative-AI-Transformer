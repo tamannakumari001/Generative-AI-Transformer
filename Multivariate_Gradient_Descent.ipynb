{
 "cells": [
  {
   "cell_type": "markdown",
   "metadata": {
    "id": "n_ZwYtYkkhMw"
   },
   "source": [
    "In this part of the assignment you have to implement multivariate gradient descent to find the minimas (local and global) of the given function:\n",
    "Note : you can find different minimas by changing your initialisation.  \n",
    "$f(x) = x^4 + x^2y^2 - y^2 + y^4 + 6$"
   ]
  },
  {
   "cell_type": "code",
   "execution_count": 28,
   "metadata": {},
   "outputs": [],
   "source": [
    "import numpy as np\n",
    "import matplotlib.pyplot as plt"
   ]
  },
  {
   "cell_type": "code",
   "execution_count": 26,
   "metadata": {},
   "outputs": [],
   "source": [
    "'''def call_func(func):\n",
    "    def wrapper():\n",
    "        func()\n",
    "    return wrapper\n",
    "    '''\n",
    "    \n",
    "def z_func(x):\n",
    "        return x[0]**4 + x[0]**2 * x[1]**2 - x[1]**2 + x[1]**4 + 6"
   ]
  },
  {
   "cell_type": "code",
   "execution_count": 15,
   "metadata": {},
   "outputs": [],
   "source": [
    "def derivative(positions):\n",
    "    return np.array([4*positions[0]**3 + 2*positions[0]*positions[1]**2, 4*positions[1]**3 -2*positions[1] + 2*positions[1]*positions[0]**2])"
   ]
  },
  {
   "cell_type": "code",
   "execution_count": 17,
   "metadata": {
    "id": "AGC301Ynkcth"
   },
   "outputs": [],
   "source": [
    "def multivariable_gradient_descent(positions, alpha = 0.1):\n",
    "    epsilon = 1e-5\n",
    "    weights = np.ones(len(positions))\n",
    "    s = abs(sum(weights))\n",
    "    count = 0\n",
    "    new_positions = positions.copy()\n",
    "    while s > epsilon:\n",
    "        positions = new_positions.copy()\n",
    "        count += 1\n",
    "        weights = derivative( positions)\n",
    "        s = abs(sum(weights))\n",
    "        new_positions -= weights/max(100, s)\n",
    "        while s > epsilon and all(new_positions == positions):\n",
    "            new_positions -= weights/100\n",
    "    return positions, count"
   ]
  },
  {
   "cell_type": "code",
   "execution_count": null,
   "metadata": {},
   "outputs": [
    {
     "data": {
      "text/plain": [
       "(array([9.94526076e-06, 7.07106781e-01]), 1071)"
      ]
     },
     "execution_count": 18,
     "metadata": {},
     "output_type": "execute_result"
    }
   ],
   "source": [
    "positions = [1,1]\n",
    "multivariable_gradient_descent(positions)"
   ]
  },
  {
   "cell_type": "code",
   "execution_count": 20,
   "metadata": {},
   "outputs": [
    {
     "data": {
      "text/plain": [
       "(array([-9.97043752e-06, -7.07106781e-01]), 1073)"
      ]
     },
     "execution_count": 20,
     "metadata": {},
     "output_type": "execute_result"
    }
   ],
   "source": [
    "positions = np.array([-2,-2], dtype='float64')\n",
    "multivariable_gradient_descent( positions)"
   ]
  },
  {
   "cell_type": "code",
   "execution_count": 27,
   "metadata": {},
   "outputs": [
    {
     "name": "stdout",
     "output_type": "stream",
     "text": [
      "[9.91738555e-06 7.07106781e-01] 1169\n",
      "5.7500000000491776\n"
     ]
    }
   ],
   "source": [
    "positions = np.array([50,50], dtype='float64')\n",
    "positions, count = multivariable_gradient_descent( positions)\n",
    "print(positions,count)"
   ]
  },
  {
   "cell_type": "code",
   "execution_count": 59,
   "metadata": {},
   "outputs": [
    {
     "data": {
      "text/plain": [
       "849"
      ]
     },
     "execution_count": 59,
     "metadata": {},
     "output_type": "execute_result"
    }
   ],
   "source": []
  },
  {
   "cell_type": "code",
   "execution_count": null,
   "metadata": {},
   "outputs": [],
   "source": []
  }
 ],
 "metadata": {
  "colab": {
   "provenance": []
  },
  "kernelspec": {
   "display_name": "Python 3",
   "language": "python",
   "name": "python3"
  },
  "language_info": {
   "codemirror_mode": {
    "name": "ipython",
    "version": 3
   },
   "file_extension": ".py",
   "mimetype": "text/x-python",
   "name": "python",
   "nbconvert_exporter": "python",
   "pygments_lexer": "ipython3",
   "version": "3.13.0"
  }
 },
 "nbformat": 4,
 "nbformat_minor": 4
}
